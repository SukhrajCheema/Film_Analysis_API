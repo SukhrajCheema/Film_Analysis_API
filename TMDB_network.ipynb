{
 "cells": [
  {
   "cell_type": "markdown",
   "id": "426f08ed-d802-4ca2-b17c-ff0006a10412",
   "metadata": {
    "tags": []
   },
   "source": [
    "# TheMovieDatabase (TMBD) API"
   ]
  },
  {
   "cell_type": "markdown",
   "id": "98996d1a-ecff-491c-a1b8-6367fa74895f",
   "metadata": {},
   "source": [
    "### Import modules"
   ]
  },
  {
   "cell_type": "code",
   "execution_count": 1,
   "id": "00d0e74b-6248-47dc-802a-3cde4d8813de",
   "metadata": {},
   "outputs": [],
   "source": [
    "import numpy as np\n",
    "import pandas as pd\n",
    "\n",
    "from scipy import spatial\n",
    "\n",
    "import matplotlib.pyplot as plt\n",
    "\n",
    "import itertools\n",
    "import networkx as nx\n",
    "from pyvis.network import Network\n",
    "\n",
    "from tqdm import tqdm\n",
    "\n",
    "import requests\n",
    "import json\n",
    "import time"
   ]
  },
  {
   "cell_type": "code",
   "execution_count": 2,
   "id": "40113720-82ab-4060-bd24-ba93d7263e84",
   "metadata": {},
   "outputs": [],
   "source": [
    "global api_key\n",
    "api_key = '' #INSERT API KEY"
   ]
  },
  {
   "cell_type": "markdown",
   "id": "3ee86166-e533-4192-a71e-ef3289b3ad07",
   "metadata": {},
   "source": [
    "### Custom API functions"
   ]
  },
  {
   "cell_type": "code",
   "execution_count": 3,
   "id": "65a31dd8-a2f8-43f8-bef0-9b642afb2847",
   "metadata": {},
   "outputs": [],
   "source": [
    "def get_db(content_type, start_date, num_pages):\n",
    "    \n",
    "    url = f'https://api.themoviedb.org/3/discover/{content_type}?primary_release_date.gte={{}}&api_key={{}}&language=en-UK&page={{}}'\n",
    "    content_df = pd.DataFrame({})\n",
    "    for page in tqdm(range(1,num_pages+1)):\n",
    "        formatted_url = url.format(start_date, api_key, page)\n",
    "        response = requests.get(formatted_url)\n",
    "        results = response.json()\n",
    "        df = pd.json_normalize(results['results'])\n",
    "        if content_df.empty:\n",
    "            content_df = df\n",
    "        else:\n",
    "            content_df = pd.concat([content_df,df])\n",
    "        time.sleep(1)\n",
    "    \n",
    "    if content_type=='movie':\n",
    "        content_df = content_df[['id','title','overview']]\n",
    "    elif content_type=='tv':\n",
    "        content_df = content_df[['id','name','overview']].rename(columns={'id':'id','name':'title','overview':'overview'})\n",
    "        \n",
    "    return content_df\n",
    "\n",
    "\n",
    "def get_cast(content_type, id):\n",
    "    \n",
    "    try:\n",
    "        url = f'https://api.themoviedb.org/3/{content_type}/{id}/credits?api_key={api_key}&language=en-UK'\n",
    "        response = requests.get(url)\n",
    "        results = response.json()\n",
    "        df = pd.json_normalize(results['cast'])\n",
    "        return list(df['name'])\n",
    "    except:\n",
    "        return 'n/a'\n",
    "    \n",
    "    \n",
    "def get_reviews(content_type, id):\n",
    "    \n",
    "    try:\n",
    "        url = f'https://api.themoviedb.org/3/{content_type}/{id}/reviews?api_key={api_key}&language=en-UK'\n",
    "        response = requests.get(url)\n",
    "        results = response.json()\n",
    "        if results['total_results'] != 0:\n",
    "            return [result['content'] for result in results['results']]\n",
    "        else:\n",
    "            return []\n",
    "    except:\n",
    "        return []"
   ]
  },
  {
   "cell_type": "markdown",
   "id": "59781d4f-4ebf-4aab-b547-f0b8679830e5",
   "metadata": {},
   "source": [
    "### Get content from API"
   ]
  },
  {
   "cell_type": "code",
   "execution_count": 4,
   "id": "10952ef5-9957-4fef-9368-c6136c11e9d5",
   "metadata": {},
   "outputs": [
    {
     "name": "stderr",
     "output_type": "stream",
     "text": [
      "100%|██████████| 100/100 [03:03<00:00,  1.84s/it]\n",
      "100%|██████████| 100/100 [02:26<00:00,  1.47s/it]"
     ]
    },
    {
     "name": "stdout",
     "output_type": "stream",
     "text": [
      "CPU times: user 3.48 s, sys: 196 ms, total: 3.68 s\n",
      "Wall time: 5min 30s\n"
     ]
    },
    {
     "name": "stderr",
     "output_type": "stream",
     "text": [
      "\n"
     ]
    }
   ],
   "source": [
    "%%time\n",
    "\n",
    "num_pages = 100\n",
    "movie_df = get_db('movie','1970-01-01',num_pages)\n",
    "movie_df['content_type'] = 'movie'\n",
    "tv_df = get_db('tv','1970-01-01',num_pages)\n",
    "tv_df['content_type'] = 'tv'\n",
    "df = pd.concat((movie_df,tv_df))"
   ]
  },
  {
   "cell_type": "markdown",
   "id": "c281f18e-b324-4670-8915-95ad524f9a8b",
   "metadata": {},
   "source": [
    "### Get cast list from API"
   ]
  },
  {
   "cell_type": "code",
   "execution_count": 5,
   "id": "258ed97e-fc1a-487f-b8b7-28788b2e7475",
   "metadata": {
    "tags": []
   },
   "outputs": [
    {
     "name": "stdout",
     "output_type": "stream",
     "text": [
      "3.57% of casts unavailable from API\n"
     ]
    }
   ],
   "source": [
    "df['cast'] = df.apply(lambda x : get_cast(x['content_type'], x['id']), axis=1)\n",
    "print(f\"{round((len(df[df.cast == 'n/a'])/len(df))*100,2)}% of casts unavailable from API\")\n",
    "df = df[df.cast != 'n/a']"
   ]
  },
  {
   "cell_type": "markdown",
   "id": "b89c19bd-7bbb-4713-9ef2-3310f310a30c",
   "metadata": {
    "tags": []
   },
   "source": [
    "### Final table"
   ]
  },
  {
   "cell_type": "code",
   "execution_count": 6,
   "id": "eb7a580d-47bf-4c5f-a7ec-740fe0d97110",
   "metadata": {},
   "outputs": [
    {
     "data": {
      "text/plain": [
       "(3857, 5)"
      ]
     },
     "execution_count": 6,
     "metadata": {},
     "output_type": "execute_result"
    }
   ],
   "source": [
    "df.shape"
   ]
  },
  {
   "cell_type": "code",
   "execution_count": 7,
   "id": "7ee3420c-0fd9-4f25-a5ee-e642f563e318",
   "metadata": {},
   "outputs": [
    {
     "data": {
      "text/plain": [
       "Index(['id', 'title', 'overview', 'content_type', 'cast'], dtype='object')"
      ]
     },
     "execution_count": 7,
     "metadata": {},
     "output_type": "execute_result"
    }
   ],
   "source": [
    "df.columns"
   ]
  },
  {
   "cell_type": "code",
   "execution_count": 8,
   "id": "61d0164d-c91e-4fda-9347-b2513f608473",
   "metadata": {},
   "outputs": [
    {
     "data": {
      "text/html": [
       "<div>\n",
       "<style scoped>\n",
       "    .dataframe tbody tr th:only-of-type {\n",
       "        vertical-align: middle;\n",
       "    }\n",
       "\n",
       "    .dataframe tbody tr th {\n",
       "        vertical-align: top;\n",
       "    }\n",
       "\n",
       "    .dataframe thead th {\n",
       "        text-align: right;\n",
       "    }\n",
       "</style>\n",
       "<table border=\"1\" class=\"dataframe\">\n",
       "  <thead>\n",
       "    <tr style=\"text-align: right;\">\n",
       "      <th></th>\n",
       "      <th>title</th>\n",
       "      <th>overview</th>\n",
       "      <th>content_type</th>\n",
       "      <th>cast</th>\n",
       "    </tr>\n",
       "  </thead>\n",
       "  <tbody>\n",
       "    <tr>\n",
       "      <th>0</th>\n",
       "      <td>Spider-Man: No Way Home</td>\n",
       "      <td>Peter Parker is unmasked and no longer able to...</td>\n",
       "      <td>movie</td>\n",
       "      <td>[Tom Holland, Zendaya, Benedict Cumberbatch, J...</td>\n",
       "    </tr>\n",
       "    <tr>\n",
       "      <th>1</th>\n",
       "      <td>Encanto</td>\n",
       "      <td>The tale of an extraordinary family, the Madri...</td>\n",
       "      <td>movie</td>\n",
       "      <td>[Stephanie Beatriz, María Cecilia Botero, John...</td>\n",
       "    </tr>\n",
       "    <tr>\n",
       "      <th>2</th>\n",
       "      <td>The King's Man</td>\n",
       "      <td>As a collection of history's worst tyrants and...</td>\n",
       "      <td>movie</td>\n",
       "      <td>[Ralph Fiennes, Harris Dickinson, Gemma Artert...</td>\n",
       "    </tr>\n",
       "    <tr>\n",
       "      <th>3</th>\n",
       "      <td>Scream</td>\n",
       "      <td>Twenty-five years after a streak of brutal mur...</td>\n",
       "      <td>movie</td>\n",
       "      <td>[Neve Campbell, Courteney Cox, David Arquette,...</td>\n",
       "    </tr>\n",
       "    <tr>\n",
       "      <th>4</th>\n",
       "      <td>The Ice Age Adventures of Buck Wild</td>\n",
       "      <td>The fearless one-eyed weasel Buck teams up wit...</td>\n",
       "      <td>movie</td>\n",
       "      <td>[Simon Pegg, Vincent Tong, Aaron Harris, Utkar...</td>\n",
       "    </tr>\n",
       "    <tr>\n",
       "      <th>...</th>\n",
       "      <td>...</td>\n",
       "      <td>...</td>\n",
       "      <td>...</td>\n",
       "      <td>...</td>\n",
       "    </tr>\n",
       "    <tr>\n",
       "      <th>15</th>\n",
       "      <td>The Wonderful World of Mickey Mouse</td>\n",
       "      <td>It's nothing but fun and excitement for Mickey...</td>\n",
       "      <td>tv</td>\n",
       "      <td>[Chris Diamantopoulos, Kaitlyn Robrock, Bill F...</td>\n",
       "    </tr>\n",
       "    <tr>\n",
       "      <th>16</th>\n",
       "      <td>Shadow and Bone</td>\n",
       "      <td>In a world cleaved in two by a massive barrier...</td>\n",
       "      <td>tv</td>\n",
       "      <td>[Jessie Mei Li, Archie Renaux, Freddy Carter, ...</td>\n",
       "    </tr>\n",
       "    <tr>\n",
       "      <th>17</th>\n",
       "      <td>The Little Mermaid</td>\n",
       "      <td>Disney's The Little Mermaid is an American ani...</td>\n",
       "      <td>tv</td>\n",
       "      <td>[Jodi Benson, Jim Cummings, Samuel E. Wright, ...</td>\n",
       "    </tr>\n",
       "    <tr>\n",
       "      <th>18</th>\n",
       "      <td>Utopia</td>\n",
       "      <td>A group of young adults who met online are mer...</td>\n",
       "      <td>tv</td>\n",
       "      <td>[John Cusack, Rainn Wilson, Dan Byrd, Cory Mic...</td>\n",
       "    </tr>\n",
       "    <tr>\n",
       "      <th>19</th>\n",
       "      <td>Humans</td>\n",
       "      <td>In a parallel present where the latest must-ha...</td>\n",
       "      <td>tv</td>\n",
       "      <td>[Katherine Parkinson, Gemma Chan, Emily Berrin...</td>\n",
       "    </tr>\n",
       "  </tbody>\n",
       "</table>\n",
       "<p>3857 rows × 4 columns</p>\n",
       "</div>"
      ],
      "text/plain": [
       "                                  title  \\\n",
       "0               Spider-Man: No Way Home   \n",
       "1                               Encanto   \n",
       "2                        The King's Man   \n",
       "3                                Scream   \n",
       "4   The Ice Age Adventures of Buck Wild   \n",
       "..                                  ...   \n",
       "15  The Wonderful World of Mickey Mouse   \n",
       "16                      Shadow and Bone   \n",
       "17                   The Little Mermaid   \n",
       "18                               Utopia   \n",
       "19                               Humans   \n",
       "\n",
       "                                             overview content_type  \\\n",
       "0   Peter Parker is unmasked and no longer able to...        movie   \n",
       "1   The tale of an extraordinary family, the Madri...        movie   \n",
       "2   As a collection of history's worst tyrants and...        movie   \n",
       "3   Twenty-five years after a streak of brutal mur...        movie   \n",
       "4   The fearless one-eyed weasel Buck teams up wit...        movie   \n",
       "..                                                ...          ...   \n",
       "15  It's nothing but fun and excitement for Mickey...           tv   \n",
       "16  In a world cleaved in two by a massive barrier...           tv   \n",
       "17  Disney's The Little Mermaid is an American ani...           tv   \n",
       "18  A group of young adults who met online are mer...           tv   \n",
       "19  In a parallel present where the latest must-ha...           tv   \n",
       "\n",
       "                                                 cast  \n",
       "0   [Tom Holland, Zendaya, Benedict Cumberbatch, J...  \n",
       "1   [Stephanie Beatriz, María Cecilia Botero, John...  \n",
       "2   [Ralph Fiennes, Harris Dickinson, Gemma Artert...  \n",
       "3   [Neve Campbell, Courteney Cox, David Arquette,...  \n",
       "4   [Simon Pegg, Vincent Tong, Aaron Harris, Utkar...  \n",
       "..                                                ...  \n",
       "15  [Chris Diamantopoulos, Kaitlyn Robrock, Bill F...  \n",
       "16  [Jessie Mei Li, Archie Renaux, Freddy Carter, ...  \n",
       "17  [Jodi Benson, Jim Cummings, Samuel E. Wright, ...  \n",
       "18  [John Cusack, Rainn Wilson, Dan Byrd, Cory Mic...  \n",
       "19  [Katherine Parkinson, Gemma Chan, Emily Berrin...  \n",
       "\n",
       "[3857 rows x 4 columns]"
      ]
     },
     "execution_count": 8,
     "metadata": {},
     "output_type": "execute_result"
    }
   ],
   "source": [
    "df[['title','overview','content_type','cast']]"
   ]
  },
  {
   "cell_type": "markdown",
   "id": "dfc5695d-dc71-4d35-bacb-232f112a74a2",
   "metadata": {},
   "source": [
    "### Cast similarity analysis"
   ]
  },
  {
   "cell_type": "code",
   "execution_count": 9,
   "id": "d0e13a73-ca98-4cd2-bbc0-4338c6287581",
   "metadata": {},
   "outputs": [],
   "source": [
    "permutations = list(itertools.combinations(df['title'],2))\n",
    "network_df = pd.DataFrame(permutations, columns=['Content_1','Content_2'])"
   ]
  },
  {
   "cell_type": "code",
   "execution_count": 10,
   "id": "7ba412bc-c836-49eb-9479-a299daae672e",
   "metadata": {},
   "outputs": [],
   "source": [
    "network_df = network_df.merge(df[['title','cast']], left_on='Content_1', right_on='title').drop('title',axis=1)\n",
    "network_df = network_df.merge(df[['title','cast']], left_on='Content_2', right_on='title').drop('title',axis=1)"
   ]
  },
  {
   "cell_type": "code",
   "execution_count": 11,
   "id": "cb2b68b5-be04-4fe7-9b9d-d99f9d93993e",
   "metadata": {},
   "outputs": [
    {
     "data": {
      "text/html": [
       "<div>\n",
       "<style scoped>\n",
       "    .dataframe tbody tr th:only-of-type {\n",
       "        vertical-align: middle;\n",
       "    }\n",
       "\n",
       "    .dataframe tbody tr th {\n",
       "        vertical-align: top;\n",
       "    }\n",
       "\n",
       "    .dataframe thead th {\n",
       "        text-align: right;\n",
       "    }\n",
       "</style>\n",
       "<table border=\"1\" class=\"dataframe\">\n",
       "  <thead>\n",
       "    <tr style=\"text-align: right;\">\n",
       "      <th></th>\n",
       "      <th>Content_1</th>\n",
       "      <th>Content_2</th>\n",
       "      <th>cast_x</th>\n",
       "      <th>cast_y</th>\n",
       "      <th>common</th>\n",
       "      <th>num_common</th>\n",
       "      <th>cast_similarity</th>\n",
       "    </tr>\n",
       "  </thead>\n",
       "  <tbody>\n",
       "    <tr>\n",
       "      <th>0</th>\n",
       "      <td>Spider-Man: No Way Home</td>\n",
       "      <td>Encanto</td>\n",
       "      <td>[Tom Holland, Zendaya, Benedict Cumberbatch, J...</td>\n",
       "      <td>[Stephanie Beatriz, María Cecilia Botero, John...</td>\n",
       "      <td>{}</td>\n",
       "      <td>0</td>\n",
       "      <td>0.00</td>\n",
       "    </tr>\n",
       "    <tr>\n",
       "      <th>1</th>\n",
       "      <td>Spider-Man: No Way Home</td>\n",
       "      <td>The King's Man</td>\n",
       "      <td>[Tom Holland, Zendaya, Benedict Cumberbatch, J...</td>\n",
       "      <td>[Ralph Fiennes, Harris Dickinson, Gemma Artert...</td>\n",
       "      <td>{Rhys Ifans}</td>\n",
       "      <td>1</td>\n",
       "      <td>0.01</td>\n",
       "    </tr>\n",
       "    <tr>\n",
       "      <th>2</th>\n",
       "      <td>Encanto</td>\n",
       "      <td>The King's Man</td>\n",
       "      <td>[Stephanie Beatriz, María Cecilia Botero, John...</td>\n",
       "      <td>[Ralph Fiennes, Harris Dickinson, Gemma Artert...</td>\n",
       "      <td>{}</td>\n",
       "      <td>0</td>\n",
       "      <td>0.00</td>\n",
       "    </tr>\n",
       "    <tr>\n",
       "      <th>3</th>\n",
       "      <td>Spider-Man: No Way Home</td>\n",
       "      <td>Scream</td>\n",
       "      <td>[Tom Holland, Zendaya, Benedict Cumberbatch, J...</td>\n",
       "      <td>[Neve Campbell, Courteney Cox, David Arquette,...</td>\n",
       "      <td>{}</td>\n",
       "      <td>0</td>\n",
       "      <td>0.00</td>\n",
       "    </tr>\n",
       "    <tr>\n",
       "      <th>4</th>\n",
       "      <td>Spider-Man: No Way Home</td>\n",
       "      <td>Scream</td>\n",
       "      <td>[Tom Holland, Zendaya, Benedict Cumberbatch, J...</td>\n",
       "      <td>[David Arquette, Neve Campbell, Courteney Cox,...</td>\n",
       "      <td>{}</td>\n",
       "      <td>0</td>\n",
       "      <td>0.00</td>\n",
       "    </tr>\n",
       "    <tr>\n",
       "      <th>...</th>\n",
       "      <td>...</td>\n",
       "      <td>...</td>\n",
       "      <td>...</td>\n",
       "      <td>...</td>\n",
       "      <td>...</td>\n",
       "      <td>...</td>\n",
       "      <td>...</td>\n",
       "    </tr>\n",
       "    <tr>\n",
       "      <th>8300489</th>\n",
       "      <td>Les échangistes</td>\n",
       "      <td>Humans</td>\n",
       "      <td>[Pénélope McQuade]</td>\n",
       "      <td>[Katherine Parkinson, Gemma Chan, Emily Berrin...</td>\n",
       "      <td>{}</td>\n",
       "      <td>0</td>\n",
       "      <td>0.00</td>\n",
       "    </tr>\n",
       "    <tr>\n",
       "      <th>8300490</th>\n",
       "      <td>Third Watch</td>\n",
       "      <td>Humans</td>\n",
       "      <td>[Coby Bell, Nia Long, Molly Price, Anthony Rui...</td>\n",
       "      <td>[Katherine Parkinson, Gemma Chan, Emily Berrin...</td>\n",
       "      <td>{}</td>\n",
       "      <td>0</td>\n",
       "      <td>0.00</td>\n",
       "    </tr>\n",
       "    <tr>\n",
       "      <th>8300491</th>\n",
       "      <td>The Wonderful World of Mickey Mouse</td>\n",
       "      <td>Humans</td>\n",
       "      <td>[Chris Diamantopoulos, Kaitlyn Robrock, Bill F...</td>\n",
       "      <td>[Katherine Parkinson, Gemma Chan, Emily Berrin...</td>\n",
       "      <td>{}</td>\n",
       "      <td>0</td>\n",
       "      <td>0.00</td>\n",
       "    </tr>\n",
       "    <tr>\n",
       "      <th>8300492</th>\n",
       "      <td>Shadow and Bone</td>\n",
       "      <td>Humans</td>\n",
       "      <td>[Jessie Mei Li, Archie Renaux, Freddy Carter, ...</td>\n",
       "      <td>[Katherine Parkinson, Gemma Chan, Emily Berrin...</td>\n",
       "      <td>{}</td>\n",
       "      <td>0</td>\n",
       "      <td>0.00</td>\n",
       "    </tr>\n",
       "    <tr>\n",
       "      <th>8300493</th>\n",
       "      <td>Utopia</td>\n",
       "      <td>Humans</td>\n",
       "      <td>[John Cusack, Rainn Wilson, Dan Byrd, Cory Mic...</td>\n",
       "      <td>[Katherine Parkinson, Gemma Chan, Emily Berrin...</td>\n",
       "      <td>{}</td>\n",
       "      <td>0</td>\n",
       "      <td>0.00</td>\n",
       "    </tr>\n",
       "  </tbody>\n",
       "</table>\n",
       "<p>8300494 rows × 7 columns</p>\n",
       "</div>"
      ],
      "text/plain": [
       "                                   Content_1       Content_2  \\\n",
       "0                    Spider-Man: No Way Home         Encanto   \n",
       "1                    Spider-Man: No Way Home  The King's Man   \n",
       "2                                    Encanto  The King's Man   \n",
       "3                    Spider-Man: No Way Home          Scream   \n",
       "4                    Spider-Man: No Way Home          Scream   \n",
       "...                                      ...             ...   \n",
       "8300489                      Les échangistes          Humans   \n",
       "8300490                          Third Watch          Humans   \n",
       "8300491  The Wonderful World of Mickey Mouse          Humans   \n",
       "8300492                      Shadow and Bone          Humans   \n",
       "8300493                               Utopia          Humans   \n",
       "\n",
       "                                                    cast_x  \\\n",
       "0        [Tom Holland, Zendaya, Benedict Cumberbatch, J...   \n",
       "1        [Tom Holland, Zendaya, Benedict Cumberbatch, J...   \n",
       "2        [Stephanie Beatriz, María Cecilia Botero, John...   \n",
       "3        [Tom Holland, Zendaya, Benedict Cumberbatch, J...   \n",
       "4        [Tom Holland, Zendaya, Benedict Cumberbatch, J...   \n",
       "...                                                    ...   \n",
       "8300489                                 [Pénélope McQuade]   \n",
       "8300490  [Coby Bell, Nia Long, Molly Price, Anthony Rui...   \n",
       "8300491  [Chris Diamantopoulos, Kaitlyn Robrock, Bill F...   \n",
       "8300492  [Jessie Mei Li, Archie Renaux, Freddy Carter, ...   \n",
       "8300493  [John Cusack, Rainn Wilson, Dan Byrd, Cory Mic...   \n",
       "\n",
       "                                                    cast_y        common  \\\n",
       "0        [Stephanie Beatriz, María Cecilia Botero, John...            {}   \n",
       "1        [Ralph Fiennes, Harris Dickinson, Gemma Artert...  {Rhys Ifans}   \n",
       "2        [Ralph Fiennes, Harris Dickinson, Gemma Artert...            {}   \n",
       "3        [Neve Campbell, Courteney Cox, David Arquette,...            {}   \n",
       "4        [David Arquette, Neve Campbell, Courteney Cox,...            {}   \n",
       "...                                                    ...           ...   \n",
       "8300489  [Katherine Parkinson, Gemma Chan, Emily Berrin...            {}   \n",
       "8300490  [Katherine Parkinson, Gemma Chan, Emily Berrin...            {}   \n",
       "8300491  [Katherine Parkinson, Gemma Chan, Emily Berrin...            {}   \n",
       "8300492  [Katherine Parkinson, Gemma Chan, Emily Berrin...            {}   \n",
       "8300493  [Katherine Parkinson, Gemma Chan, Emily Berrin...            {}   \n",
       "\n",
       "         num_common  cast_similarity  \n",
       "0                 0             0.00  \n",
       "1                 1             0.01  \n",
       "2                 0             0.00  \n",
       "3                 0             0.00  \n",
       "4                 0             0.00  \n",
       "...             ...              ...  \n",
       "8300489           0             0.00  \n",
       "8300490           0             0.00  \n",
       "8300491           0             0.00  \n",
       "8300492           0             0.00  \n",
       "8300493           0             0.00  \n",
       "\n",
       "[8300494 rows x 7 columns]"
      ]
     },
     "execution_count": 11,
     "metadata": {},
     "output_type": "execute_result"
    }
   ],
   "source": [
    "network_df['common'] = network_df.apply(lambda x : set(x['cast_x']).intersection(set(x['cast_y'])), axis=1)\n",
    "network_df['num_common'] = network_df.apply(lambda x : len(x['common']), axis=1)\n",
    "network_df['cast_similarity'] = network_df.apply(lambda x : round(x['num_common'] / max(len(x['cast_x']),len(x['cast_y'])),2), axis=1)\n",
    "network_df"
   ]
  },
  {
   "cell_type": "markdown",
   "id": "4c19a489-9bf0-4683-9717-373864986670",
   "metadata": {
    "tags": []
   },
   "source": [
    "### Network analysis"
   ]
  },
  {
   "cell_type": "code",
   "execution_count": 15,
   "id": "34001062-7654-475e-800e-6bd9843acdf8",
   "metadata": {},
   "outputs": [
    {
     "name": "stderr",
     "output_type": "stream",
     "text": [
      "/opt/conda/lib/python3.7/site-packages/ipykernel_launcher.py:3: SettingWithCopyWarning: \n",
      "A value is trying to be set on a copy of a slice from a DataFrame.\n",
      "Try using .loc[row_indexer,col_indexer] = value instead\n",
      "\n",
      "See the caveats in the documentation: https://pandas.pydata.org/pandas-docs/stable/user_guide/indexing.html#returning-a-view-versus-a-copy\n",
      "  This is separate from the ipykernel package so we can avoid doing imports until\n"
     ]
    },
    {
     "data": {
      "text/html": [
       "<div>\n",
       "<style scoped>\n",
       "    .dataframe tbody tr th:only-of-type {\n",
       "        vertical-align: middle;\n",
       "    }\n",
       "\n",
       "    .dataframe tbody tr th {\n",
       "        vertical-align: top;\n",
       "    }\n",
       "\n",
       "    .dataframe thead th {\n",
       "        text-align: right;\n",
       "    }\n",
       "</style>\n",
       "<table border=\"1\" class=\"dataframe\">\n",
       "  <thead>\n",
       "    <tr style=\"text-align: right;\">\n",
       "      <th></th>\n",
       "      <th>Content_1</th>\n",
       "      <th>Content_2</th>\n",
       "      <th>cast_x</th>\n",
       "      <th>cast_y</th>\n",
       "      <th>common</th>\n",
       "      <th>num_common</th>\n",
       "      <th>cast_similarity</th>\n",
       "    </tr>\n",
       "  </thead>\n",
       "  <tbody>\n",
       "    <tr>\n",
       "      <th>15</th>\n",
       "      <td>Scream</td>\n",
       "      <td>Scream</td>\n",
       "      <td>[Neve Campbell, Courteney Cox, David Arquette,...</td>\n",
       "      <td>[Neve Campbell, Courteney Cox, David Arquette,...</td>\n",
       "      <td>{Sonia Ammar, Boomer Mays, Dylan Minnette, Dre...</td>\n",
       "      <td>32</td>\n",
       "      <td>1.00</td>\n",
       "    </tr>\n",
       "    <tr>\n",
       "      <th>16</th>\n",
       "      <td>Scream</td>\n",
       "      <td>Scream</td>\n",
       "      <td>[Neve Campbell, Courteney Cox, David Arquette,...</td>\n",
       "      <td>[David Arquette, Neve Campbell, Courteney Cox,...</td>\n",
       "      <td>{Neve Campbell, Drew Barrymore, Skeet Ulrich, ...</td>\n",
       "      <td>9</td>\n",
       "      <td>0.22</td>\n",
       "    </tr>\n",
       "    <tr>\n",
       "      <th>17</th>\n",
       "      <td>Scream</td>\n",
       "      <td>Scream</td>\n",
       "      <td>[David Arquette, Neve Campbell, Courteney Cox,...</td>\n",
       "      <td>[Neve Campbell, Courteney Cox, David Arquette,...</td>\n",
       "      <td>{Neve Campbell, Drew Barrymore, Skeet Ulrich, ...</td>\n",
       "      <td>9</td>\n",
       "      <td>0.22</td>\n",
       "    </tr>\n",
       "    <tr>\n",
       "      <th>18</th>\n",
       "      <td>Scream</td>\n",
       "      <td>Scream</td>\n",
       "      <td>[David Arquette, Neve Campbell, Courteney Cox,...</td>\n",
       "      <td>[David Arquette, Neve Campbell, Courteney Cox,...</td>\n",
       "      <td>{Drew Barrymore, Lisa Beach, Courteney Cox, Ja...</td>\n",
       "      <td>41</td>\n",
       "      <td>1.00</td>\n",
       "    </tr>\n",
       "    <tr>\n",
       "      <th>1132</th>\n",
       "      <td>Uncharted</td>\n",
       "      <td>Uncharted</td>\n",
       "      <td>[Tom Holland, Mark Wahlberg, Antonio Banderas,...</td>\n",
       "      <td>[Tom Holland, Mark Wahlberg, Antonio Banderas,...</td>\n",
       "      <td>{Pilou Asbæk, Georgia Goodman, Steven Waddingt...</td>\n",
       "      <td>27</td>\n",
       "      <td>1.00</td>\n",
       "    </tr>\n",
       "  </tbody>\n",
       "</table>\n",
       "</div>"
      ],
      "text/plain": [
       "      Content_1  Content_2                                             cast_x  \\\n",
       "15       Scream     Scream  [Neve Campbell, Courteney Cox, David Arquette,...   \n",
       "16       Scream     Scream  [Neve Campbell, Courteney Cox, David Arquette,...   \n",
       "17       Scream     Scream  [David Arquette, Neve Campbell, Courteney Cox,...   \n",
       "18       Scream     Scream  [David Arquette, Neve Campbell, Courteney Cox,...   \n",
       "1132  Uncharted  Uncharted  [Tom Holland, Mark Wahlberg, Antonio Banderas,...   \n",
       "\n",
       "                                                 cast_y  \\\n",
       "15    [Neve Campbell, Courteney Cox, David Arquette,...   \n",
       "16    [David Arquette, Neve Campbell, Courteney Cox,...   \n",
       "17    [Neve Campbell, Courteney Cox, David Arquette,...   \n",
       "18    [David Arquette, Neve Campbell, Courteney Cox,...   \n",
       "1132  [Tom Holland, Mark Wahlberg, Antonio Banderas,...   \n",
       "\n",
       "                                                 common  num_common  \\\n",
       "15    {Sonia Ammar, Boomer Mays, Dylan Minnette, Dre...          32   \n",
       "16    {Neve Campbell, Drew Barrymore, Skeet Ulrich, ...           9   \n",
       "17    {Neve Campbell, Drew Barrymore, Skeet Ulrich, ...           9   \n",
       "18    {Drew Barrymore, Lisa Beach, Courteney Cox, Ja...          41   \n",
       "1132  {Pilou Asbæk, Georgia Goodman, Steven Waddingt...          27   \n",
       "\n",
       "      cast_similarity  \n",
       "15               1.00  \n",
       "16               0.22  \n",
       "17               0.22  \n",
       "18               1.00  \n",
       "1132             1.00  "
      ]
     },
     "execution_count": 15,
     "metadata": {},
     "output_type": "execute_result"
    }
   ],
   "source": [
    "tr = 4\n",
    "\n",
    "network_df['num_common'] = network_df['num_common'].map(lambda x : x if x >= tr else 0)\n",
    "network_df = network_df[network_df['num_common']!=0]\n",
    "\n",
    "network_df.head()"
   ]
  },
  {
   "cell_type": "code",
   "execution_count": 16,
   "id": "6515dd98-a7ac-4392-8e2f-92b966ae29b7",
   "metadata": {},
   "outputs": [],
   "source": [
    "G = nx.from_pandas_edgelist(network_df, source='Content_1', target='Content_2', edge_attr='cast_similarity')"
   ]
  },
  {
   "cell_type": "code",
   "execution_count": 17,
   "id": "3a0bc6a1-5ec5-4ac5-bfda-bd8bfa1cb83d",
   "metadata": {},
   "outputs": [
    {
     "data": {
      "text/html": [
       "\n",
       "        <iframe\n",
       "            width=\"500px\"\n",
       "            height=\"500px\"\n",
       "            src=\"example.html\"\n",
       "            frameborder=\"0\"\n",
       "            allowfullscreen\n",
       "            \n",
       "        ></iframe>\n",
       "        "
      ],
      "text/plain": [
       "<IPython.lib.display.IFrame at 0x7f57cf4c0510>"
      ]
     },
     "execution_count": 17,
     "metadata": {},
     "output_type": "execute_result"
    }
   ],
   "source": [
    "net = Network(notebook=True)\n",
    "net.from_nx(G)\n",
    "net.show('example.html')"
   ]
  }
 ],
 "metadata": {
  "environment": {
   "kernel": "python3",
   "name": "common-cpu.m89",
   "type": "gcloud",
   "uri": "gcr.io/deeplearning-platform-release/base-cpu:m89"
  },
  "kernelspec": {
   "display_name": "Python 3",
   "language": "python",
   "name": "python3"
  },
  "language_info": {
   "codemirror_mode": {
    "name": "ipython",
    "version": 3
   },
   "file_extension": ".py",
   "mimetype": "text/x-python",
   "name": "python",
   "nbconvert_exporter": "python",
   "pygments_lexer": "ipython3",
   "version": "3.7.12"
  }
 },
 "nbformat": 4,
 "nbformat_minor": 5
}
